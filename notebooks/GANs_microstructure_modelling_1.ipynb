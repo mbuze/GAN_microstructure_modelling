{
 "cells": [
  {
   "cell_type": "code",
   "execution_count": 2,
   "metadata": {},
   "outputs": [
    {
     "data": {
      "text/html": [
       "\n",
       "        <script>\n",
       "            function code_toggle_9048239368972277488() {\n",
       "                $('div.cell.code_cell.rendered.selected').next().find('div.input').toggle();\n",
       "            }\n",
       "\n",
       "            $('div.cell.code_cell.rendered.selected').find(\"div.input\").hide();\n",
       "        </script>\n",
       "\n",
       "        <a href=\"javascript:code_toggle_9048239368972277488()\">s _</a>\n",
       "    "
      ],
      "text/plain": [
       "<IPython.core.display.HTML object>"
      ]
     },
     "execution_count": 2,
     "metadata": {},
     "output_type": "execute_result"
    }
   ],
   "source": [
    "# hiding slideshow setup etc\n",
    "hide_toggle(for_next=True)"
   ]
  },
  {
   "cell_type": "code",
   "execution_count": 1,
   "metadata": {},
   "outputs": [],
   "source": [
    "from IPython.display import Image\n",
    "from IPython.core.display import HTML \n",
    "from IPython.display import HTML\n",
    "import random\n",
    "\n",
    "def hide_toggle(for_next=False):\n",
    "    this_cell = \"\"\"$('div.cell.code_cell.rendered.selected')\"\"\"\n",
    "    next_cell = this_cell + '.next()'\n",
    "\n",
    "    toggle_text = 's'  # text shown on toggle link\n",
    "    target_cell = this_cell  # target cell to control with toggle\n",
    "    js_hide_current = ''  # bit of JS to permanently hide code in current cell (only when toggling next cell)\n",
    "\n",
    "    if for_next:\n",
    "        target_cell = next_cell\n",
    "        toggle_text += ' _'\n",
    "        js_hide_current = this_cell + '.find(\"div.input\").hide();'\n",
    "\n",
    "    js_f_name = 'code_toggle_{}'.format(str(random.randint(1,2**64)))\n",
    "\n",
    "    html = \"\"\"\n",
    "        <script>\n",
    "            function {f_name}() {{\n",
    "                {cell_selector}.find('div.input').toggle();\n",
    "            }}\n",
    "\n",
    "            {js_hide_current}\n",
    "        </script>\n",
    "\n",
    "        <a href=\"javascript:{f_name}()\">{toggle_text}</a>\n",
    "    \"\"\".format(\n",
    "        f_name=js_f_name,\n",
    "        cell_selector=target_cell,\n",
    "        js_hide_current=js_hide_current, \n",
    "        toggle_text=toggle_text\n",
    "    )\n",
    "\n",
    "    return HTML(html)\n",
    "\n",
    "tata_steel = \"https://i.guim.co.uk/img/media/447f7e234d9f432480a3c5bb0ec596c12ce869c5/0_340_5100_3060/master/5100.jpg?width=1900&dpr=1&s=none\"\n",
    "ebsd_scan = \"https://i.imgur.com/YOQ9mzO.png\"\n",
    "apd_ebsd = \"https://i.imgur.com/HobMKDG.png\"\n",
    "pyapd_logo = \"https://raw.githubusercontent.com/mbuze/PyAPD/main/logo/logo.png\"\n",
    "\n",
    "\n",
    "#!/usr/bin/env python3\n",
    "from traitlets.config.manager import BaseJSONConfigManager\n",
    "from pathlib import Path\n",
    "path = Path.home() / \".jupyter\" / \"nbconfig\"\n",
    "cm = BaseJSONConfigManager(config_dir=str(path))\n",
    "cm.update(\n",
    "    \"rise\",\n",
    "    {\n",
    "        \"theme\": \"moon\",\n",
    "        \"transition\": \"none\",\n",
    "        \"start_slideshow_at\": \"selected\",\n",
    "        \"enable_chalkboard\": True,\n",
    "     }\n",
    ")"
   ]
  },
  {
   "cell_type": "markdown",
   "metadata": {
    "slideshow": {
     "slide_type": "slide"
    }
   },
   "source": [
    "# Generative Adversarial Networks with applications in microstructure modelling: Part 1\n",
    "\n",
    "### 2024 CMIT Summer Research Internship Programme, University of Liverpool, 16 July 2024\n",
    "\n",
    "\n",
    "#### Maciej Buze, Heriot-Watt University\n",
    "\n"
   ]
  },
  {
   "cell_type": "markdown",
   "metadata": {
    "slideshow": {
     "slide_type": "slide"
    }
   },
   "source": [
    "## Course Information\n",
    "\n",
    "- My contact information:\n",
    "   - Email: [m.buze@hw.ac.uk](mailto:m.buze@hw.ac.uk) -> questions / comments / reflections very welcome!\n",
    "   - Website: https://mbuze.github.io\n",
    "   - Potential PhD projects starting in October 2025 or October 2026 -> get in touch!\n",
    "<br><br>\n",
    "- Github repo with course materials:<br>\n",
    "https://github.com/mbuze/GAN_microstructure_modelling\n",
    "<br><br>\n",
    "- Slides/Notes/Exercises via Jupyter notebooks\n",
    "<br><br>\n",
    "- Other relevant Python library PyAPD: https://github.com/mbuze/PyAPD"
   ]
  },
  {
   "cell_type": "markdown",
   "metadata": {
    "slideshow": {
     "slide_type": "slide"
    }
   },
   "source": [
    "## Course aims and structure\n",
    "\n",
    "### Aims\n",
    "\n",
    "A gentle hands-on introducton to \n",
    "1. Microstructure modelling as a mathematical imaging problem\n",
    "1. Generative Adversarial Networks - a well-known generative AI framework \n",
    "\n",
    "### Structure\n",
    "- Two ~2-hour lectures: (i) Tuesday 16 July 9:30-11:30 BST, (ii) Friday 19 July 9:30-11:30 BST\n",
    "- Blend of theory and live coding\n",
    "- Modest homework in the form of a Jupyter notebook\n",
    "- Reproducible code to play around with"
   ]
  },
  {
   "cell_type": "markdown",
   "metadata": {
    "slideshow": {
     "slide_type": "slide"
    }
   },
   "source": [
    "## Motivation"
   ]
  },
  {
   "cell_type": "code",
   "execution_count": 5,
   "metadata": {
    "slideshow": {
     "slide_type": "skip"
    }
   },
   "outputs": [
    {
     "data": {
      "text/html": [
       "\n",
       "        <script>\n",
       "            function code_toggle_14787814848764540129() {\n",
       "                $('div.cell.code_cell.rendered.selected').next().find('div.input').toggle();\n",
       "            }\n",
       "\n",
       "            $('div.cell.code_cell.rendered.selected').find(\"div.input\").hide();\n",
       "        </script>\n",
       "\n",
       "        <a href=\"javascript:code_toggle_14787814848764540129()\">s _</a>\n",
       "    "
      ],
      "text/plain": [
       "<IPython.core.display.HTML object>"
      ]
     },
     "execution_count": 5,
     "metadata": {},
     "output_type": "execute_result"
    }
   ],
   "source": [
    "hide_toggle(for_next=True)"
   ]
  },
  {
   "cell_type": "code",
   "execution_count": 6,
   "metadata": {
    "scrolled": false,
    "slideshow": {
     "slide_type": "-"
    }
   },
   "outputs": [
    {
     "data": {
      "text/html": [
       "<img src=\"https://i.guim.co.uk/img/media/447f7e234d9f432480a3c5bb0ec596c12ce869c5/0_340_5100_3060/master/5100.jpg?width=1900&dpr=1&s=none\" width=\"1350\"/>"
      ],
      "text/plain": [
       "<IPython.core.display.Image object>"
      ]
     },
     "execution_count": 6,
     "metadata": {},
     "output_type": "execute_result"
    }
   ],
   "source": [
    "Image(url= tata_steel, width=1350)"
   ]
  },
  {
   "cell_type": "markdown",
   "metadata": {
    "slideshow": {
     "slide_type": "subslide"
    }
   },
   "source": [
    "Jasper Jolly, The Guardian, Sat 15 July 2023:\n",
    "\n",
    "\"<span id=\"pink\">To list the products that use steel is to list much of modern life</span>:\n",
    "<ul>\n",
    "<li> Port Talbot provided most of the steel in the Nissan Leaf electric car, built in Sunderland.\n",
    "\t<br>\n",
    "<li> Heinz baked beans “tins” are made of its steel, as are radiators in many homes.\n",
    "\t<br>\n",
    "<li> Construction is the plant’s biggest market: Tata made blue cladding for Everton’s football stadium, and red cladding for Liverpool’s Anfield on the other side of Stanley Park.\n",
    "\t<br>\n",
    "<li> Another crucial growth area – and one key for the UK’s energy security – is <span id=\"magenta\">zero-emissions power: wind turbines sit on steel stalks, and nuclear reactors are encased in steel</span>.\"\n",
    "</ul>\n",
    "<br><br>\n",
    "Any optimisation of the industrial process in steel production can have massive posititve impact on reducing emissions:\n",
    "<ul>\n",
    "\t<li><span id=\"green\">Blast furnace at Port Talbot produced </span> 5.7m tonnes of carbon dioxide in 2022 – about <span id=\"green\">2% of the total for the entire UK</span>.\n",
    "\t<br>\n",
    "\t<li>Electric arc furnaces (EAF) produce recycled steel with much lower carbon footprint. \n",
    "\t<br>\n",
    "\t<li><span id=\"orange\">Recycled steel has different properties, including the morphology of grains (<b>microstructure</b>)."
   ]
  },
  {
   "cell_type": "code",
   "execution_count": 7,
   "metadata": {
    "slideshow": {
     "slide_type": "skip"
    }
   },
   "outputs": [
    {
     "data": {
      "text/html": [
       "\n",
       "        <script>\n",
       "            function code_toggle_16830586854063087553() {\n",
       "                $('div.cell.code_cell.rendered.selected').next().find('div.input').toggle();\n",
       "            }\n",
       "\n",
       "            $('div.cell.code_cell.rendered.selected').find(\"div.input\").hide();\n",
       "        </script>\n",
       "\n",
       "        <a href=\"javascript:code_toggle_16830586854063087553()\">s _</a>\n",
       "    "
      ],
      "text/plain": [
       "<IPython.core.display.HTML object>"
      ]
     },
     "execution_count": 7,
     "metadata": {},
     "output_type": "execute_result"
    }
   ],
   "source": [
    "hide_toggle(for_next=True)"
   ]
  },
  {
   "cell_type": "code",
   "execution_count": 8,
   "metadata": {
    "slideshow": {
     "slide_type": "subslide"
    }
   },
   "outputs": [
    {
     "data": {
      "text/html": [
       "<img src=\"https://i.imgur.com/YOQ9mzO.png\" width=\"1050\"/>"
      ],
      "text/plain": [
       "<IPython.core.display.Image object>"
      ]
     },
     "execution_count": 8,
     "metadata": {},
     "output_type": "execute_result"
    }
   ],
   "source": [
    "Image(url= ebsd_scan, width=1050)"
   ]
  },
  {
   "cell_type": "markdown",
   "metadata": {
    "slideshow": {
     "slide_type": "subslide"
    }
   },
   "source": [
    "- Understanding the deformation behaviour of polycrystalline materials is crucial for numerous industrial applications\n",
    "- There are powerful computational methods for simulating the mechanical behaviour of polycrystals on a computer\n",
    "- Statistical studies required - we need to generate a lot of artificial samples:"
   ]
  },
  {
   "cell_type": "code",
   "execution_count": 9,
   "metadata": {
    "slideshow": {
     "slide_type": "skip"
    }
   },
   "outputs": [
    {
     "data": {
      "text/html": [
       "\n",
       "        <script>\n",
       "            function code_toggle_1610019583882515855() {\n",
       "                $('div.cell.code_cell.rendered.selected').next().find('div.input').toggle();\n",
       "            }\n",
       "\n",
       "            $('div.cell.code_cell.rendered.selected').find(\"div.input\").hide();\n",
       "        </script>\n",
       "\n",
       "        <a href=\"javascript:code_toggle_1610019583882515855()\">s _</a>\n",
       "    "
      ],
      "text/plain": [
       "<IPython.core.display.HTML object>"
      ]
     },
     "execution_count": 9,
     "metadata": {},
     "output_type": "execute_result"
    }
   ],
   "source": [
    "hide_toggle(for_next=True)"
   ]
  },
  {
   "cell_type": "code",
   "execution_count": 10,
   "metadata": {
    "scrolled": false
   },
   "outputs": [
    {
     "data": {
      "text/html": [
       "<table><tr><td><img src=https://i.imgur.com/YOQ9mzO.png width=\"600\"></td><td><img src=https://i.imgur.com/HobMKDG.png width=\"600\"></td></tr></table>"
      ],
      "text/plain": [
       "<IPython.core.display.HTML object>"
      ]
     },
     "metadata": {},
     "output_type": "display_data"
    }
   ],
   "source": [
    "display(HTML(f\"\"\"<table><tr><td><img src={ebsd_scan} width=\"600\"></td><td><img src={apd_ebsd} width=\"600\"></td></tr></table>\"\"\"))"
   ]
  },
  {
   "cell_type": "markdown",
   "metadata": {
    "slideshow": {
     "slide_type": "slide"
    }
   },
   "source": [
    "## The question we will is explore is:\n",
    "<br>\n",
    "\n",
    "<h2><p style=\"text-align: center;\">Can generative AI help us? </p></h2>\n",
    "\n",
    "<br><br><br>\n",
    "### This is an active research topic:\n",
    "\n",
    "- <small> Chun, S., Roy, S., Nguyen, Y. T., Choi, J. B., Udaykumar, H. S., & Baek, S. S. (2020). Deep learning for synthetic microstructure generation in a materials-by-design framework for heterogeneous energetic materials. Scientific reports, 10(1), 13307 [[link]](https://www.nature.com/articles/s41598-020-70149-0).\n",
    "- <small> Murgas, B., Stickel, J., & Ghosh, S. (2024). Generative adversarial network (GAN) enabled Statistically equivalent virtual microstructures (SEVM) for modeling cold spray formed bimodal polycrystals. npj Computational Materials, 10(1), 32 [[link]](https://www.nature.com/articles/s41524-024-01219-4).\n",
    "- <small> Wijaya, A., Wagner, J., Sartory, B., & Brunner, R. (2024). Analyzing microstructure relationships in porous copper using a multi-method machine learning-based approach. Communications Materials, 5(1), 59 [[link]](https://www.nature.com/articles/s43246-024-00493-5).\n",
    "</small>"
   ]
  },
  {
   "cell_type": "markdown",
   "metadata": {
    "slideshow": {
     "slide_type": "slide"
    }
   },
   "source": [
    "## Training data generation\n",
    "\n",
    "Any AI model needs to be trained on data. As often in science, in our proof-of-concept exploration we will first generate simplified artificial data. This will give us better control over the overall framework.\n",
    "\n",
    "To this end, we will rely on `PyAPD`, a Python library for generating simplified models of microstructure that I have recently developed together with collaborators.\n",
    "\n",
    "<small>M. Buze, J. Feydy, S.M. Roper, K. Sedighiani, D.P. Bourne (2024). Anisotropic power diagrams for polycrystal modeling: efficient generation of curved grains via optimal transport. arXiv e-prints 2403.03571, 2024 [[link to the paper]](https://arxiv.org/abs/2403.03571).</small>"
   ]
  },
  {
   "cell_type": "code",
   "execution_count": 12,
   "metadata": {
    "slideshow": {
     "slide_type": "skip"
    }
   },
   "outputs": [
    {
     "data": {
      "text/html": [
       "\n",
       "        <script>\n",
       "            function code_toggle_12269848461980492105() {\n",
       "                $('div.cell.code_cell.rendered.selected').next().find('div.input').toggle();\n",
       "            }\n",
       "\n",
       "            $('div.cell.code_cell.rendered.selected').find(\"div.input\").hide();\n",
       "        </script>\n",
       "\n",
       "        <a href=\"javascript:code_toggle_12269848461980492105()\">s _</a>\n",
       "    "
      ],
      "text/plain": [
       "<IPython.core.display.HTML object>"
      ]
     },
     "execution_count": 12,
     "metadata": {},
     "output_type": "execute_result"
    }
   ],
   "source": [
    "hide_toggle(for_next=True)"
   ]
  },
  {
   "cell_type": "code",
   "execution_count": 11,
   "metadata": {
    "scrolled": false
   },
   "outputs": [
    {
     "data": {
      "text/html": [
       "<img src=\"https://raw.githubusercontent.com/mbuze/PyAPD/main/logo/logo.png\" width=\"1100\"/>"
      ],
      "text/plain": [
       "<IPython.core.display.Image object>"
      ]
     },
     "execution_count": 11,
     "metadata": {},
     "output_type": "execute_result"
    }
   ],
   "source": [
    "Image(url= pyapd_logo, width=1100)"
   ]
  },
  {
   "cell_type": "markdown",
   "metadata": {
    "slideshow": {
     "slide_type": "subslide"
    }
   },
   "source": [
    "## Training data generation"
   ]
  },
  {
   "cell_type": "code",
   "execution_count": null,
   "metadata": {},
   "outputs": [],
   "source": [
    "#pip install PyAPD"
   ]
  },
  {
   "cell_type": "code",
   "execution_count": 13,
   "metadata": {},
   "outputs": [
    {
     "name": "stdout",
     "output_type": "stream",
     "text": [
      "[KeOps] Warning : Cuda libraries were not detected on the system ; using cpu only mode\n"
     ]
    }
   ],
   "source": [
    "import PyAPD\n",
    "import matplotlib.pyplot as plt # for plotting\n",
    "import torch # go-to machine learning Python library\n",
    "import numpy as np # NumPy is the fundamental package for scientific computing with Python."
   ]
  },
  {
   "cell_type": "code",
   "execution_count": 14,
   "metadata": {},
   "outputs": [],
   "source": [
    "apd1 = PyAPD.apd_system(\n",
    "    N=15, # number of grains\n",
    "    ani_thres=0.5, # anisotropy parameter\n",
    "    pixel_size_prefactor=5, # create this times as many pixels (good for nice plots) \n",
    "    )\n",
    "apd1.assemble_pixels() # defining the pixels"
   ]
  },
  {
   "cell_type": "code",
   "execution_count": 15,
   "metadata": {},
   "outputs": [
    {
     "name": "stdout",
     "output_type": "stream",
     "text": [
      "Lloyds iteration: 0\n",
      "Optimality condition successfully overwritten.\n",
      "The APD is optimal!\n",
      "Percentage error =  0.9708813428878784\n",
      "Lloyds iteration: 1\n",
      "Optimality condition successfully overwritten.\n",
      "The APD is optimal!\n",
      "Percentage error =  0.774297833442688\n",
      "Lloyds iteration: 2\n",
      "Optimality condition successfully overwritten.\n",
      "The APD is optimal!\n",
      "Percentage error =  0.815849781036377\n",
      "Lloyds iteration: 3\n",
      "Optimality condition successfully overwritten.\n",
      "The APD is optimal!\n",
      "Percentage error =  0.8877776861190796\n",
      "Lloyds iteration: 4\n",
      "Optimality condition successfully overwritten.\n",
      "The APD is optimal!\n",
      "Percentage error =  0.566538393497467\n",
      "Lloyds iteration: 5\n",
      "Optimality condition successfully overwritten.\n",
      "The APD is optimal!\n",
      "Percentage error =  0.566538393497467\n",
      "Lloyds iteration: 6\n",
      "Optimality condition successfully overwritten.\n",
      "The APD is optimal!\n",
      "Percentage error =  0.8877776861190796\n",
      "Lloyds iteration: 7\n",
      "Optimality condition successfully overwritten.\n",
      "The APD is optimal!\n",
      "Percentage error =  0.8574016094207764\n",
      "Lloyds iteration: 8\n",
      "Optimality condition successfully overwritten.\n",
      "The APD is optimal!\n",
      "Percentage error =  0.6080902814865112\n",
      "Lloyds iteration: 9\n",
      "Optimality condition successfully overwritten.\n",
      "The APD is optimal!\n",
      "Percentage error =  0.6800181865692139\n"
     ]
    }
   ],
   "source": [
    "%%capture \n",
    "apd1.Lloyds_algorithm( # # algorithm for generating nice microstructure\n",
    "    K=10, # number of iterations\n",
    ") "
   ]
  },
  {
   "cell_type": "markdown",
   "metadata": {
    "slideshow": {
     "slide_type": "subslide"
    }
   },
   "source": [
    "## Training data generation"
   ]
  },
  {
   "cell_type": "code",
   "execution_count": 16,
   "metadata": {
    "scrolled": false,
    "slideshow": {
     "slide_type": "-"
    }
   },
   "outputs": [
    {
     "data": {
      "text/plain": [
       "(<Figure size 756x756 with 1 Axes>, <Axes: >)"
      ]
     },
     "execution_count": 16,
     "metadata": {},
     "output_type": "execute_result"
    },
    {
     "data": {
      "image/png": "[encoded data removed]",
      "text/plain": [
       "<Figure size 756x756 with 1 Axes>"
      ]
     },
     "metadata": {
      "needs_background": "light"
     },
     "output_type": "display_data"
    }
   ],
   "source": [
    "apd1.plot_apd()"
   ]
  },
  {
   "cell_type": "markdown",
   "metadata": {
    "slideshow": {
     "slide_type": "subslide"
    }
   },
   "source": [
    "## Training data generation"
   ]
  },
  {
   "cell_type": "code",
   "execution_count": 17,
   "metadata": {
    "slideshow": {
     "slide_type": "-"
    }
   },
   "outputs": [],
   "source": [
    "img = apd1.assemble_apd().reshape(apd1.pixel_params).transpose(0,1).cpu()\n",
    "img_s = (img + 1)/img.max() #shift values to [0,1]"
   ]
  },
  {
   "cell_type": "code",
   "execution_count": 18,
   "metadata": {},
   "outputs": [
    {
     "data": {
      "text/plain": [
       "tensor(0.2857)"
      ]
     },
     "execution_count": 18,
     "metadata": {},
     "output_type": "execute_result"
    }
   ],
   "source": [
    "img_s[0,0]"
   ]
  },
  {
   "cell_type": "markdown",
   "metadata": {},
   "source": [
    "Full data generation algorithm (see stand-alone [notebook in the Github repo](https://github.com/mbuze/GAN_microstructure_modelling/blob/main/notebooks/generating_pyapd_data.ipynb) ):"
   ]
  },
  {
   "cell_type": "code",
   "execution_count": null,
   "metadata": {},
   "outputs": [],
   "source": [
    "# for i in range(0,14162):\n",
    "#     apd1 = PyAPD.apd_system(N=15, ani_thres=0.5, seed = i)\n",
    "#     apd1.check_optimality()\n",
    "#     apd1.Lloyds_algorithm(K=10, verbosity_level = 0 )\n",
    "#     img = apd1.assemble_apd().reshape(apd1.pixel_params).transpose(0,1).cpu() \n",
    "#     img_s = (img + 1)/(img+1).max()  #shift values to [0,1]  \n",
    "#     plt.imsave(f'data/apd_data/train/mono_disperse_small/pic{i}.png', img_s,cmap=plt.cm.gray) # saving an image"
   ]
  },
  {
   "cell_type": "markdown",
   "metadata": {
    "slideshow": {
     "slide_type": "slide"
    }
   },
   "source": [
    "## Inspecting the data"
   ]
  },
  {
   "cell_type": "code",
   "execution_count": 19,
   "metadata": {
    "slideshow": {
     "slide_type": "-"
    }
   },
   "outputs": [],
   "source": [
    "import os\n",
    "import requests\n",
    "import zipfile\n",
    "from pathlib import Path"
   ]
  },
  {
   "cell_type": "code",
   "execution_count": 20,
   "metadata": {
    "slideshow": {
     "slide_type": "-"
    }
   },
   "outputs": [
    {
     "name": "stdout",
     "output_type": "stream",
     "text": [
      "data/apd_data directory exists.\n"
     ]
    }
   ],
   "source": [
    "# Setup path to data folder\n",
    "data_path = Path(\"data/\") # path to data folder\n",
    "image_path = data_path / \"apd_data\" # path to the specific subfolder\n",
    "# If the image folder doesn't exist, download it and prepare it...\n",
    "if image_path.is_dir():\n",
    "    print(f\"{image_path} directory exists.\")\n",
    "else:\n",
    "    print(f\"Did not find {image_path} directory, creating one...\")\n",
    "    image_path.mkdir(parents=True, exist_ok=True)\n",
    "    # Download PyAPD data\n",
    "    with open(data_path / \"apd_data.zip\", \"wb\") as f:\n",
    "        request = requests.get(\"https://github.com/mbuze/GAN_microstructures_Summer_School/raw/main/data/apd_data.zip\")\n",
    "        print(\"Downloading PyAPD data...\")\n",
    "        f.write(request.content)\n",
    "    # Unzip the data\n",
    "    with zipfile.ZipFile(data_path / \"apd_data.zip\", \"r\") as zip_ref:\n",
    "        print(\"Unzipping PyAPD data...\")\n",
    "        zip_ref.extractall(image_path)"
   ]
  },
  {
   "cell_type": "code",
   "execution_count": 22,
   "metadata": {
    "slideshow": {
     "slide_type": "subslide"
    }
   },
   "outputs": [
    {
     "data": {
      "image/png": "[encoded data removed]",
      "text/plain": [
       "<Figure size 720x504 with 1 Axes>"
      ]
     },
     "metadata": {
      "needs_background": "light"
     },
     "output_type": "display_data"
    }
   ],
   "source": [
    "import random # random number generator\n",
    "from PIL import Image # opening images from files\n",
    "# Set seed\n",
    "random.seed(41) # <- try changing this and see what happens\n",
    "# 1. Get all image paths (* means \"any combination\")\n",
    "image_path_list = list(image_path.glob(\"*/*/*.png\"))\n",
    "#2. Get random image path\n",
    "random_image_path = random.choice(image_path_list)\n",
    "# 3. Get image class from path name (the image class is the name of the directory where the image is stored)\n",
    "image_class = random_image_path.parent.stem\n",
    "# 4. Open image\n",
    "img = Image.open(random_image_path)\n",
    "# Turn the image into an array\n",
    "img_as_array = np.asarray(img)\n",
    "# Plot the image with matplotlib\n",
    "plt.figure(figsize=(10, 7))\n",
    "plt.imshow(img_as_array)#,cmap=plt.cm.gray)\n",
    "plt.axis(False);"
   ]
  },
  {
   "cell_type": "markdown",
   "metadata": {
    "slideshow": {
     "slide_type": "slide"
    }
   },
   "source": [
    "## Summary\n",
    "\n",
    "- Polycrystalline metals and alloys comprise of grains with different shape, size, and crystallographic orientation.\n",
    "- This leads to an interesting mathematical imaging problem.\n",
    "- An ability to create high-quality artificial computer samples is highly desirable. \n",
    "- AI frameworks can help, but they rely on data.\n",
    "- We have created artificial data and next time we meet we will use it to train a machine learning model.\n",
    "- Final few slides contain homework exercises."
   ]
  },
  {
   "cell_type": "markdown",
   "metadata": {
    "slideshow": {
     "slide_type": "slide"
    }
   },
   "source": [
    "## Homework"
   ]
  },
  {
   "cell_type": "markdown",
   "metadata": {
    "slideshow": {
     "slide_type": "-"
    }
   },
   "source": [
    "(1) How many data points (images) does our dataset contain? You can either just type in the number or run a command that will output the number. (Hint: you can get it easily using commands from the data inspection)"
   ]
  },
  {
   "cell_type": "code",
   "execution_count": 23,
   "metadata": {
    "slideshow": {
     "slide_type": "-"
    }
   },
   "outputs": [],
   "source": [
    "# answer here\n"
   ]
  },
  {
   "cell_type": "markdown",
   "metadata": {
    "slideshow": {
     "slide_type": "-"
    }
   },
   "source": [
    "(2) Display the 500th image from the dataset."
   ]
  },
  {
   "cell_type": "code",
   "execution_count": 24,
   "metadata": {
    "slideshow": {
     "slide_type": "-"
    }
   },
   "outputs": [],
   "source": [
    "# code goes here"
   ]
  },
  {
   "cell_type": "markdown",
   "metadata": {
    "slideshow": {
     "slide_type": "subslide"
    }
   },
   "source": [
    "(3) In the presentation the images were coloured, but in the dataset the images are grayscale. Discuss why (there is a specific line of code responsible for it). Do you think that it matters? Is it beneficial or detrimental?"
   ]
  },
  {
   "cell_type": "markdown",
   "metadata": {},
   "source": [
    "Type your answer here."
   ]
  },
  {
   "cell_type": "markdown",
   "metadata": {},
   "source": [
    "(4) What are the common features of all the images we produced? (This is ultimately what we want the machine learning algorithm to learn for itself!). Try to think of at least four different features, but feel free to list as many as you want. "
   ]
  },
  {
   "cell_type": "markdown",
   "metadata": {},
   "source": [
    "Type your answer here. "
   ]
  }
 ],
 "metadata": {
  "accelerator": "GPU",
  "celltoolbar": "Slideshow",
  "colab": {
   "authorship_tag": "ABX9TyPKk9fH9ycME274gX7dWMCr",
   "gpuType": "T4",
   "provenance": []
  },
  "kernelspec": {
   "display_name": "Python 3 (ipykernel)",
   "language": "python",
   "name": "python3"
  },
  "language_info": {
   "codemirror_mode": {
    "name": "ipython",
    "version": 3
   },
   "file_extension": ".py",
   "mimetype": "text/x-python",
   "name": "python",
   "nbconvert_exporter": "python",
   "pygments_lexer": "ipython3",
   "version": "3.11.6"
  }
 },
 "nbformat": 4,
 "nbformat_minor": 4
}
