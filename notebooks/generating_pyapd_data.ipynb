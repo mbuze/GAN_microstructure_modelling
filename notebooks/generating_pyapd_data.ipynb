{
 "cells": [
  {
   "cell_type": "code",
   "execution_count": 1,
   "id": "40b649de-4d17-4357-8429-c05bde424831",
   "metadata": {
    "scrolled": true,
    "slideshow": {
     "slide_type": ""
    },
    "tags": []
   },
   "outputs": [
    {
     "name": "stdout",
     "output_type": "stream",
     "text": [
      "[KeOps] Warning : Cuda libraries were not detected on the system ; using cpu only mode\n"
     ]
    }
   ],
   "source": [
    "import PyAPD\n",
    "import matplotlib.pyplot as plt\n",
    "import torch\n",
    "import cv2\n",
    "import numpy as np"
   ]
  },
  {
   "cell_type": "code",
   "execution_count": 2,
   "id": "7df855bc-60c2-4b93-8744-7376daf1caee",
   "metadata": {
    "scrolled": true
   },
   "outputs": [
    {
     "name": "stdout",
     "output_type": "stream",
     "text": [
      "Precision loss detected!\n",
      "Percentage error =  137.6222686767578\n",
      "Optimality condition successfully overwritten.\n",
      "The APD is optimal!\n",
      "Percentage error =  0.5369223356246948\n",
      "Optimality condition successfully overwritten.\n",
      "The APD is optimal!\n",
      "Percentage error =  0.5369223356246948\n",
      "Optimality condition successfully overwritten.\n",
      "The APD is optimal!\n",
      "Percentage error =  0.5369223356246948\n",
      "Optimality condition successfully overwritten.\n",
      "The APD is optimal!\n",
      "Percentage error =  0.7615461349487305\n",
      "Optimality condition successfully overwritten.\n",
      "The APD is optimal!\n",
      "Percentage error =  0.7966160774230957\n",
      "Optimality condition successfully overwritten.\n",
      "The APD is optimal!\n",
      "Percentage error =  0.7966160774230957\n",
      "Optimality condition successfully overwritten.\n",
      "The APD is optimal!\n",
      "Percentage error =  0.7966160774230957\n",
      "Optimality condition successfully overwritten.\n",
      "The APD is optimal!\n",
      "Percentage error =  0.7966160774230957\n",
      "Optimality condition successfully overwritten.\n",
      "The APD is optimal!\n",
      "Percentage error =  0.7966160774230957\n",
      "Optimality condition successfully overwritten.\n",
      "The APD is optimal!\n",
      "Percentage error =  0.5369223356246948\n"
     ]
    },
    {
     "data": {
      "text/plain": [
       "torch.Size([76, 76])"
      ]
     },
     "execution_count": 2,
     "metadata": {},
     "output_type": "execute_result"
    }
   ],
   "source": [
    "# test run\n",
    "i = 10\n",
    "apd1 = PyAPD.apd_system(N=15, ani_thres=0.5, seed = i)\n",
    "\n",
    "apd1.check_optimality()\n",
    "apd1.Lloyds_algorithm(K=10, verbosity_level = 0 )\n",
    "\n",
    "img = apd1.assemble_apd().reshape(apd1.pixel_params).transpose(0,1).cpu()\n",
    "#shift values to [0,1]    \n",
    "img_s = (img + 1)/img.max()\n",
    "#normalize, apparently important for GANs \n",
    "# (but does not have to be done here)\n",
    "img_n = (img_s - 0.5)/0.5\n",
    "\n",
    "img.shape"
   ]
  },
  {
   "cell_type": "code",
   "execution_count": 3,
   "id": "1da7326b-5881-4a3f-9425-5fc37bcb404f",
   "metadata": {},
   "outputs": [
    {
     "name": "stdout",
     "output_type": "stream",
     "text": [
      "2\n",
      "3\n",
      "4\n"
     ]
    }
   ],
   "source": [
    "for i in range(2,5):\n",
    "    print(i)"
   ]
  },
  {
   "cell_type": "code",
   "execution_count": 5,
   "id": "0bf646ee",
   "metadata": {},
   "outputs": [
    {
     "data": {
      "text/plain": [
       "'/home/mb/MEGAsync/academic_work/teaching/Summer_School_Liverpool_24/notebooks'"
      ]
     },
     "execution_count": 5,
     "metadata": {},
     "output_type": "execute_result"
    }
   ],
   "source": [
    "pwd()"
   ]
  },
  {
   "cell_type": "code",
   "execution_count": 4,
   "id": "eb1019bf-a26f-4e93-ba54-68fba56b69a9",
   "metadata": {
    "scrolled": true,
    "slideshow": {
     "slide_type": ""
    },
    "tags": []
   },
   "outputs": [
    {
     "name": "stdout",
     "output_type": "stream",
     "text": [
      "Precision loss detected!\n",
      "Percentage error =  101.5232925415039\n",
      "Optimality condition successfully overwritten.\n",
      "The APD is optimal!\n",
      "Percentage error =  0.5369223356246948\n",
      "Optimality condition successfully overwritten.\n",
      "The APD is optimal!\n",
      "Percentage error =  0.5369223356246948\n",
      "Optimality condition successfully overwritten.\n",
      "The APD is optimal!\n",
      "Percentage error =  0.5018524527549744\n",
      "Optimality condition successfully overwritten.\n",
      "The APD is optimal!\n",
      "Percentage error =  0.7966160774230957\n",
      "Optimality condition successfully overwritten.\n",
      "The APD is optimal!\n",
      "Percentage error =  0.7966160774230957\n",
      "Optimality condition successfully overwritten.\n",
      "The APD is optimal!\n",
      "Percentage error =  0.5018524527549744\n",
      "Optimality condition successfully overwritten.\n",
      "The APD is optimal!\n",
      "Percentage error =  0.5369223356246948\n",
      "Optimality condition successfully overwritten.\n",
      "The APD is optimal!\n",
      "Percentage error =  0.7615461349487305\n",
      "Optimality condition successfully overwritten.\n",
      "The APD is optimal!\n",
      "Percentage error =  0.7615461349487305\n",
      "Optimality condition successfully overwritten.\n",
      "The APD is optimal!\n",
      "Percentage error =  0.7615461349487305\n"
     ]
    }
   ],
   "source": [
    "for i in range(50000,50001):\n",
    "    apd1 = PyAPD.apd_system(N=15, ani_thres=0.5, seed = i)\n",
    "    \n",
    "    apd1.check_optimality()\n",
    "    apd1.Lloyds_algorithm(K=10, verbosity_level = 0 )\n",
    "    \n",
    "    img = apd1.assemble_apd().reshape(apd1.pixel_params).transpose(0,1).cpu()\n",
    "    #shift values to [0,1]    \n",
    "    img_s = (img + 1)/img.max()\n",
    "    #normalize, apparently important for GANs \n",
    "    # (but does not have to be done here)\n",
    "    img_n = (img_s - 0.5)/0.5\n",
    "\n",
    "    # directly saving an image from tensor data\n",
    "    plt.imsave(f'data/apd_data/train/mono_disperse_small/pic{i}.png', img_s)#,cmap=plt.cm.gray)"
   ]
  },
  {
   "cell_type": "code",
   "execution_count": null,
   "id": "3a925873-191a-4438-8217-938a3b9245c4",
   "metadata": {},
   "outputs": [],
   "source": []
  }
 ],
 "metadata": {
  "kernelspec": {
   "display_name": "Python 3 (ipykernel)",
   "language": "python",
   "name": "python3"
  },
  "language_info": {
   "codemirror_mode": {
    "name": "ipython",
    "version": 3
   },
   "file_extension": ".py",
   "mimetype": "text/x-python",
   "name": "python",
   "nbconvert_exporter": "python",
   "pygments_lexer": "ipython3",
   "version": "3.11.6"
  }
 },
 "nbformat": 4,
 "nbformat_minor": 5
}
